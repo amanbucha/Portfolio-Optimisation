{
  "nbformat": 4,
  "nbformat_minor": 0,
  "metadata": {
    "colab": {
      "name": "Aman.ipynb",
      "provenance": [],
      "collapsed_sections": [],
      "include_colab_link": true
    },
    "kernelspec": {
      "name": "python3",
      "display_name": "Python 3"
    },
    "language_info": {
      "name": "python"
    }
  },
  "cells": [
    {
      "cell_type": "markdown",
      "metadata": {
        "id": "view-in-github",
        "colab_type": "text"
      },
      "source": [
        "<a href=\"https://colab.research.google.com/github/amanbucha/Portfolio-Optimisation/blob/main/Aman.ipynb\" target=\"_parent\"><img src=\"https://colab.research.google.com/assets/colab-badge.svg\" alt=\"Open In Colab\"/></a>"
      ]
    },
    {
      "cell_type": "code",
      "metadata": {
        "colab": {
          "base_uri": "https://localhost:8080/"
        },
        "id": "9-SaURUCNUFn",
        "outputId": "7ed9d469-b2c8-45a6-985b-4ef3d62286ff"
      },
      "source": [
        "!pip install yfinance\n",
        "!pip install yahoofinancials\n",
        "!pip install matplotlib"
      ],
      "execution_count": null,
      "outputs": [
        {
          "output_type": "stream",
          "name": "stdout",
          "text": [
            "Requirement already satisfied: yfinance in /usr/local/lib/python3.7/dist-packages (0.1.63)\n",
            "Requirement already satisfied: multitasking>=0.0.7 in /usr/local/lib/python3.7/dist-packages (from yfinance) (0.0.9)\n",
            "Requirement already satisfied: lxml>=4.5.1 in /usr/local/lib/python3.7/dist-packages (from yfinance) (4.6.3)\n",
            "Requirement already satisfied: requests>=2.20 in /usr/local/lib/python3.7/dist-packages (from yfinance) (2.23.0)\n",
            "Requirement already satisfied: numpy>=1.15 in /usr/local/lib/python3.7/dist-packages (from yfinance) (1.19.5)\n",
            "Requirement already satisfied: pandas>=0.24 in /usr/local/lib/python3.7/dist-packages (from yfinance) (1.1.5)\n",
            "Requirement already satisfied: pytz>=2017.2 in /usr/local/lib/python3.7/dist-packages (from pandas>=0.24->yfinance) (2018.9)\n",
            "Requirement already satisfied: python-dateutil>=2.7.3 in /usr/local/lib/python3.7/dist-packages (from pandas>=0.24->yfinance) (2.8.2)\n",
            "Requirement already satisfied: six>=1.5 in /usr/local/lib/python3.7/dist-packages (from python-dateutil>=2.7.3->pandas>=0.24->yfinance) (1.15.0)\n",
            "Requirement already satisfied: chardet<4,>=3.0.2 in /usr/local/lib/python3.7/dist-packages (from requests>=2.20->yfinance) (3.0.4)\n",
            "Requirement already satisfied: certifi>=2017.4.17 in /usr/local/lib/python3.7/dist-packages (from requests>=2.20->yfinance) (2021.5.30)\n",
            "Requirement already satisfied: idna<3,>=2.5 in /usr/local/lib/python3.7/dist-packages (from requests>=2.20->yfinance) (2.10)\n",
            "Requirement already satisfied: urllib3!=1.25.0,!=1.25.1,<1.26,>=1.21.1 in /usr/local/lib/python3.7/dist-packages (from requests>=2.20->yfinance) (1.24.3)\n",
            "Requirement already satisfied: yahoofinancials in /usr/local/lib/python3.7/dist-packages (1.6)\n",
            "Requirement already satisfied: pytz in /usr/local/lib/python3.7/dist-packages (from yahoofinancials) (2018.9)\n",
            "Requirement already satisfied: beautifulsoup4 in /usr/local/lib/python3.7/dist-packages (from yahoofinancials) (4.6.3)\n",
            "Requirement already satisfied: matplotlib in /usr/local/lib/python3.7/dist-packages (3.2.2)\n",
            "Requirement already satisfied: kiwisolver>=1.0.1 in /usr/local/lib/python3.7/dist-packages (from matplotlib) (1.3.2)\n",
            "Requirement already satisfied: numpy>=1.11 in /usr/local/lib/python3.7/dist-packages (from matplotlib) (1.19.5)\n",
            "Requirement already satisfied: cycler>=0.10 in /usr/local/lib/python3.7/dist-packages (from matplotlib) (0.10.0)\n",
            "Requirement already satisfied: pyparsing!=2.0.4,!=2.1.2,!=2.1.6,>=2.0.1 in /usr/local/lib/python3.7/dist-packages (from matplotlib) (2.4.7)\n",
            "Requirement already satisfied: python-dateutil>=2.1 in /usr/local/lib/python3.7/dist-packages (from matplotlib) (2.8.2)\n",
            "Requirement already satisfied: six in /usr/local/lib/python3.7/dist-packages (from cycler>=0.10->matplotlib) (1.15.0)\n"
          ]
        }
      ]
    },
    {
      "cell_type": "code",
      "metadata": {
        "colab": {
          "base_uri": "https://localhost:8080/",
          "height": 307
        },
        "id": "g-daC7HU3jSd",
        "outputId": "9dd4c066-f863-4625-fdd6-0783e9c3c355"
      },
      "source": [
        "import numpy as np\n",
        "import pandas as pd\n",
        "import pandas_datareader.data as web\n",
        "import matplotlib.pyplot as plt\n",
        "import yfinance as yf\n",
        "\n",
        "stocks = ['AAPL','AMZN','MSFT','GOOG']\n",
        "data=pd.DataFrame()\n",
        "for stock in stocks :\n",
        "  data[stock] = yf.download( stock , start='2019-01-01',  end='2019-12-31')['Adj Close']\n",
        "\n",
        "data.head()\n",
        "\n"
      ],
      "execution_count": null,
      "outputs": [
        {
          "output_type": "stream",
          "name": "stdout",
          "text": [
            "[*********************100%***********************]  1 of 1 completed\n",
            "[*********************100%***********************]  1 of 1 completed\n",
            "[*********************100%***********************]  1 of 1 completed\n",
            "[*********************100%***********************]  1 of 1 completed\n"
          ]
        },
        {
          "output_type": "execute_result",
          "data": {
            "text/html": [
              "<div>\n",
              "<style scoped>\n",
              "    .dataframe tbody tr th:only-of-type {\n",
              "        vertical-align: middle;\n",
              "    }\n",
              "\n",
              "    .dataframe tbody tr th {\n",
              "        vertical-align: top;\n",
              "    }\n",
              "\n",
              "    .dataframe thead th {\n",
              "        text-align: right;\n",
              "    }\n",
              "</style>\n",
              "<table border=\"1\" class=\"dataframe\">\n",
              "  <thead>\n",
              "    <tr style=\"text-align: right;\">\n",
              "      <th></th>\n",
              "      <th>AAPL</th>\n",
              "      <th>AMZN</th>\n",
              "      <th>MSFT</th>\n",
              "      <th>GOOG</th>\n",
              "    </tr>\n",
              "    <tr>\n",
              "      <th>Date</th>\n",
              "      <th></th>\n",
              "      <th></th>\n",
              "      <th></th>\n",
              "      <th></th>\n",
              "    </tr>\n",
              "  </thead>\n",
              "  <tbody>\n",
              "    <tr>\n",
              "      <th>2019-01-02</th>\n",
              "      <td>38.382225</td>\n",
              "      <td>1539.130005</td>\n",
              "      <td>97.961327</td>\n",
              "      <td>1045.849976</td>\n",
              "    </tr>\n",
              "    <tr>\n",
              "      <th>2019-01-03</th>\n",
              "      <td>34.559078</td>\n",
              "      <td>1500.280029</td>\n",
              "      <td>94.357521</td>\n",
              "      <td>1016.059998</td>\n",
              "    </tr>\n",
              "    <tr>\n",
              "      <th>2019-01-04</th>\n",
              "      <td>36.034378</td>\n",
              "      <td>1575.390015</td>\n",
              "      <td>98.746017</td>\n",
              "      <td>1070.709961</td>\n",
              "    </tr>\n",
              "    <tr>\n",
              "      <th>2019-01-07</th>\n",
              "      <td>35.954166</td>\n",
              "      <td>1629.510010</td>\n",
              "      <td>98.871964</td>\n",
              "      <td>1068.390015</td>\n",
              "    </tr>\n",
              "    <tr>\n",
              "      <th>2019-01-08</th>\n",
              "      <td>36.639572</td>\n",
              "      <td>1656.579956</td>\n",
              "      <td>99.588844</td>\n",
              "      <td>1076.280029</td>\n",
              "    </tr>\n",
              "  </tbody>\n",
              "</table>\n",
              "</div>"
            ],
            "text/plain": [
              "                 AAPL         AMZN       MSFT         GOOG\n",
              "Date                                                      \n",
              "2019-01-02  38.382225  1539.130005  97.961327  1045.849976\n",
              "2019-01-03  34.559078  1500.280029  94.357521  1016.059998\n",
              "2019-01-04  36.034378  1575.390015  98.746017  1070.709961\n",
              "2019-01-07  35.954166  1629.510010  98.871964  1068.390015\n",
              "2019-01-08  36.639572  1656.579956  99.588844  1076.280029"
            ]
          },
          "metadata": {},
          "execution_count": 40
        }
      ]
    },
    {
      "cell_type": "code",
      "metadata": {
        "id": "3Bm78lYJ-Z77"
      },
      "source": [
        "returns = data.pct_change()\n",
        "cov_matrix = returns.cov()\n",
        "\n",
        "num_portfolios = 2500\n",
        "results = np.zeros((4+len(stocks)-1,num_portfolios))\n",
        "\n",
        "portfolio_return=0\n",
        "portfolio_std_dev=0"
      ],
      "execution_count": null,
      "outputs": []
    },
    {
      "cell_type": "code",
      "metadata": {
        "id": "DYQ1lsc0w-RM"
      },
      "source": [
        "for i in range(num_portfolios):\n",
        "  weights = np.array(np.random.random(4))\n",
        "  weights /= np.sum(weights)    \n",
        "  portfolio_return = np.sum(returns.mean() * weights) * 252\n",
        "  portfolio_std_dev = np.sqrt(np.dot(weights.T,np.dot(cov_matrix, weights))) * np.sqrt(252)\n",
        "  results[0,i] = portfolio_return\n",
        "  results[1,i] = portfolio_std_dev\n",
        "  results[2,i] = results[0,i] / results[1,i]\n",
        "  for j in range(len(weights)):\n",
        "    results[j+3,i] = weights[j]\n",
        "\n",
        "results_frame = pd.DataFrame(results.T,columns=['ret','stdev','sharpe',stocks[0],stocks[1],stocks[2],stocks[3]])\n",
        "\n",
        "max_sharpe_port = results_frame.iloc[results_frame['sharpe'].idxmax()]\n",
        "min_vol_port = results_frame.iloc[results_frame['stdev'].idxmin()]"
      ],
      "execution_count": null,
      "outputs": []
    },
    {
      "cell_type": "code",
      "metadata": {
        "colab": {
          "base_uri": "https://localhost:8080/"
        },
        "id": "FdvRbo7T4ngc",
        "outputId": "cb742e2e-42dd-483b-e9f6-44336a55039b"
      },
      "source": [
        "print(max_sharpe_port)"
      ],
      "execution_count": null,
      "outputs": [
        {
          "output_type": "stream",
          "name": "stdout",
          "text": [
            "ret       0.551504\n",
            "stdev     0.204325\n",
            "sharpe    2.699156\n",
            "AAPL      0.453462\n",
            "AMZN      0.014616\n",
            "MSFT      0.478024\n",
            "GOOG      0.053899\n",
            "Name: 460, dtype: float64\n"
          ]
        }
      ]
    },
    {
      "cell_type": "code",
      "metadata": {
        "colab": {
          "base_uri": "https://localhost:8080/"
        },
        "id": "KoAVn8OV4iM3",
        "outputId": "0dbf713c-a519-4df5-dbe4-7a5764d193ba"
      },
      "source": [
        "print(min_vol_port)"
      ],
      "execution_count": null,
      "outputs": [
        {
          "output_type": "stream",
          "name": "stdout",
          "text": [
            "ret       0.409871\n",
            "stdev     0.190661\n",
            "sharpe    2.149737\n",
            "AAPL      0.055901\n",
            "AMZN      0.168068\n",
            "MSFT      0.596750\n",
            "GOOG      0.179281\n",
            "Name: 1117, dtype: float64\n"
          ]
        }
      ]
    },
    {
      "cell_type": "code",
      "metadata": {
        "colab": {
          "base_uri": "https://localhost:8080/",
          "height": 310
        },
        "id": "UFMAM0Iv6wjQ",
        "outputId": "126b49b5-bca5-45fd-8ed9-e59e519c00ff"
      },
      "source": [
        "datanew=pd.DataFrame()\n",
        "for stock in stocks :\n",
        "  datanew[stock] = yf.download( stock , start='2020-01-01',  end='2020-12-31')['Adj Close']\n",
        "\n",
        "datanew.head()"
      ],
      "execution_count": null,
      "outputs": [
        {
          "output_type": "stream",
          "name": "stdout",
          "text": [
            "[*********************100%***********************]  1 of 1 completed\n",
            "[*********************100%***********************]  1 of 1 completed\n",
            "[*********************100%***********************]  1 of 1 completed\n",
            "[*********************100%***********************]  1 of 1 completed\n"
          ]
        },
        {
          "output_type": "execute_result",
          "data": {
            "text/html": [
              "<div>\n",
              "<style scoped>\n",
              "    .dataframe tbody tr th:only-of-type {\n",
              "        vertical-align: middle;\n",
              "    }\n",
              "\n",
              "    .dataframe tbody tr th {\n",
              "        vertical-align: top;\n",
              "    }\n",
              "\n",
              "    .dataframe thead th {\n",
              "        text-align: right;\n",
              "    }\n",
              "</style>\n",
              "<table border=\"1\" class=\"dataframe\">\n",
              "  <thead>\n",
              "    <tr style=\"text-align: right;\">\n",
              "      <th></th>\n",
              "      <th>AAPL</th>\n",
              "      <th>AMZN</th>\n",
              "      <th>MSFT</th>\n",
              "      <th>GOOG</th>\n",
              "    </tr>\n",
              "    <tr>\n",
              "      <th>Date</th>\n",
              "      <th></th>\n",
              "      <th></th>\n",
              "      <th></th>\n",
              "      <th></th>\n",
              "    </tr>\n",
              "  </thead>\n",
              "  <tbody>\n",
              "    <tr>\n",
              "      <th>2020-01-02</th>\n",
              "      <td>74.096451</td>\n",
              "      <td>1898.010010</td>\n",
              "      <td>157.903458</td>\n",
              "      <td>1367.369995</td>\n",
              "    </tr>\n",
              "    <tr>\n",
              "      <th>2020-01-03</th>\n",
              "      <td>73.376099</td>\n",
              "      <td>1874.969971</td>\n",
              "      <td>155.937302</td>\n",
              "      <td>1360.660034</td>\n",
              "    </tr>\n",
              "    <tr>\n",
              "      <th>2020-01-06</th>\n",
              "      <td>73.960777</td>\n",
              "      <td>1902.880005</td>\n",
              "      <td>156.340347</td>\n",
              "      <td>1394.209961</td>\n",
              "    </tr>\n",
              "    <tr>\n",
              "      <th>2020-01-07</th>\n",
              "      <td>73.612923</td>\n",
              "      <td>1906.859985</td>\n",
              "      <td>154.914886</td>\n",
              "      <td>1393.339966</td>\n",
              "    </tr>\n",
              "    <tr>\n",
              "      <th>2020-01-08</th>\n",
              "      <td>74.797089</td>\n",
              "      <td>1891.969971</td>\n",
              "      <td>157.382446</td>\n",
              "      <td>1404.319946</td>\n",
              "    </tr>\n",
              "  </tbody>\n",
              "</table>\n",
              "</div>"
            ],
            "text/plain": [
              "                 AAPL         AMZN        MSFT         GOOG\n",
              "Date                                                       \n",
              "2020-01-02  74.096451  1898.010010  157.903458  1367.369995\n",
              "2020-01-03  73.376099  1874.969971  155.937302  1360.660034\n",
              "2020-01-06  73.960777  1902.880005  156.340347  1394.209961\n",
              "2020-01-07  73.612923  1906.859985  154.914886  1393.339966\n",
              "2020-01-08  74.797089  1891.969971  157.382446  1404.319946"
            ]
          },
          "metadata": {},
          "execution_count": 33
        }
      ]
    },
    {
      "cell_type": "code",
      "metadata": {
        "id": "CsCJ21v67dyk",
        "colab": {
          "base_uri": "https://localhost:8080/"
        },
        "outputId": "aff33217-b6db-4ac6-9017-4b703f9056c2"
      },
      "source": [
        "returnsnew = datanew.pct_change()\n",
        "\n",
        "weights_new = np.array([max_sharpe_port[3],max_sharpe_port[4],max_sharpe_port[5],max_sharpe_port[6]])\n",
        "\n",
        "\n",
        "portfolio_return_new = np.sum(returnsnew.mean() * weights_new) * 252\n",
        "\n",
        "print ('Using our moodel, we calculate the return for the max sharpe portfolio for the next year. Return=', portfolio_return_new)\n",
        "\n",
        "print('Accuracy=', 100*(1-abs(1-(portfolio_return_new/max_sharpe_port[0])) ), '%')\n",
        "\n",
        "\n"
      ],
      "execution_count": null,
      "outputs": [
        {
          "output_type": "stream",
          "name": "stdout",
          "text": [
            "Using our moodel, we calculate the return for the max sharpe portfolio. Return= 0.5486514268608546\n",
            "Accuracy= 99.48279958900952 %\n"
          ]
        }
      ]
    },
    {
      "cell_type": "code",
      "metadata": {
        "colab": {
          "base_uri": "https://localhost:8080/"
        },
        "id": "P9unpUs2B-ws",
        "outputId": "f7509d13-f2e7-4fdd-b1f3-bdd71961aa36"
      },
      "source": [
        "\n",
        "weights_newer = np.array([min_vol_port[3],min_vol_port[4],min_vol_port[5],min_vol_port[6]])\n",
        "\n",
        "\n",
        "portfolio_return_newer = np.sum(returnsnew.mean() * weights_newer) * 252\n",
        "\n",
        "print ('Using our moodel, we calculate the return for the min vol portfolio for the next year. Return=', portfolio_return_newer)\n",
        "\n",
        "print('Accuracy=', 100*( 1- abs(1-portfolio_return_newer/min_vol_port[0]) ), '%')\n"
      ],
      "execution_count": null,
      "outputs": [
        {
          "output_type": "stream",
          "name": "stdout",
          "text": [
            "Using our moodel, we calculate the return for the min vol portfolio. Return= 0.4637346219483037\n",
            "Accuracy= 87.06986350782753 %\n"
          ]
        }
      ]
    }
  ]
}